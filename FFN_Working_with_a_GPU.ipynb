{
  "nbformat": 4,
  "nbformat_minor": 0,
  "metadata": {
    "colab": {
      "name": "FFN-Working with a GPU.ipynb",
      "provenance": [],
      "collapsed_sections": []
    },
    "kernelspec": {
      "name": "python3",
      "display_name": "Python 3"
    },
    "accelerator": "GPU"
  },
  "cells": [
    {
      "cell_type": "code",
      "metadata": {
        "id": "VFyxKmjH2SYJ",
        "colab_type": "code",
        "colab": {
          "base_uri": "https://localhost:8080/",
          "height": 35
        },
        "outputId": "d12d86b0-a924-489b-acb6-56fa4826c977"
      },
      "source": [
        "import numpy as np\n",
        "import torch \n",
        "import torchvision\n",
        "import torch.nn as nn\n",
        "import torch.nn.functional as F\n",
        "import matplotlib.pyplot as plt\n",
        "import torchvision.transforms as transforms\n",
        "from torch.utils.data import DataLoader\n",
        "from torch.utils.data.sampler import SubsetRandomSampler\n",
        "%matplotlib inline\n",
        "\n",
        "print(\"Import succesfull !!\")"
      ],
      "execution_count": 1,
      "outputs": [
        {
          "output_type": "stream",
          "text": [
            "Import succesfull !!\n"
          ],
          "name": "stdout"
        }
      ]
    },
    {
      "cell_type": "markdown",
      "metadata": {
        "id": "b2GTnTko6qTP",
        "colab_type": "text"
      },
      "source": [
        "## Loading the data"
      ]
    },
    {
      "cell_type": "code",
      "metadata": {
        "id": "wubKizZ66E3A",
        "colab_type": "code",
        "colab": {}
      },
      "source": [
        "dataset = torchvision.datasets.MNIST(root='data/',\n",
        "                                     train=True,\n",
        "                                     download=True,\n",
        "                                     transform=transforms.ToTensor())"
      ],
      "execution_count": 0,
      "outputs": []
    },
    {
      "cell_type": "code",
      "metadata": {
        "id": "kaNSNGzV62RM",
        "colab_type": "code",
        "colab": {
          "base_uri": "https://localhost:8080/",
          "height": 124
        },
        "outputId": "41ff07d8-1d7d-441c-865f-b49d5d7c83e7"
      },
      "source": [
        "dataset"
      ],
      "execution_count": 3,
      "outputs": [
        {
          "output_type": "execute_result",
          "data": {
            "text/plain": [
              "Dataset MNIST\n",
              "    Number of datapoints: 60000\n",
              "    Root location: data/\n",
              "    Split: Train\n",
              "    StandardTransform\n",
              "Transform: ToTensor()"
            ]
          },
          "metadata": {
            "tags": []
          },
          "execution_count": 3
        }
      ]
    },
    {
      "cell_type": "markdown",
      "metadata": {
        "id": "iDjk3Zuw6-VL",
        "colab_type": "text"
      },
      "source": [
        "### Preprocessing"
      ]
    },
    {
      "cell_type": "code",
      "metadata": {
        "id": "FkilgyWf67-5",
        "colab_type": "code",
        "colab": {}
      },
      "source": [
        "def split_indices(len, val_split):\n",
        "  split_point = int(len*val_split)\n",
        "  idxs = np.random.permutation(len)\n",
        "  return idxs[split_point:], idxs[:split_point]"
      ],
      "execution_count": 0,
      "outputs": []
    },
    {
      "cell_type": "code",
      "metadata": {
        "id": "kI6B6lh57Oxz",
        "colab_type": "code",
        "colab": {
          "base_uri": "https://localhost:8080/",
          "height": 52
        },
        "outputId": "6a67f181-6fb1-47d8-df7d-9c5b01b5a4e7"
      },
      "source": [
        "train_idxs, val_idxs = split_indices(len(dataset), 0.2)\n",
        "print(f\"Number of samples in the training set: {len(train_idxs)}\")\n",
        "print(f\"Number of samples in the validation set: {len(val_idxs)}\")"
      ],
      "execution_count": 5,
      "outputs": [
        {
          "output_type": "stream",
          "text": [
            "Number of samples in the training set: 48000\n",
            "Number of samples in the validation set: 12000\n"
          ],
          "name": "stdout"
        }
      ]
    },
    {
      "cell_type": "markdown",
      "metadata": {
        "id": "I19XmY6E7SjR",
        "colab_type": "text"
      },
      "source": [
        "### Loading the data into Batches"
      ]
    },
    {
      "cell_type": "code",
      "metadata": {
        "id": "A7I-9StW7PpV",
        "colab_type": "code",
        "colab": {}
      },
      "source": [
        "batch_size = 100\n",
        "\n",
        "train_sampler = SubsetRandomSampler(train_idxs)\n",
        "val_sampler = SubsetRandomSampler(val_idxs)\n",
        "train_dl = DataLoader(dataset, batch_size, sampler=train_sampler)\n",
        "val_dl = DataLoader(dataset, batch_size, sampler=val_sampler)"
      ],
      "execution_count": 0,
      "outputs": []
    },
    {
      "cell_type": "markdown",
      "metadata": {
        "id": "P5jJh95t9KI0",
        "colab_type": "text"
      },
      "source": [
        "## Defining a Model with 1 hidden layer"
      ]
    },
    {
      "cell_type": "code",
      "metadata": {
        "id": "NMLPTTTp7jed",
        "colab_type": "code",
        "colab": {}
      },
      "source": [
        "class MnistModel(nn.Module):\n",
        "  def __init__(self, input_size, hidden_size, output_size):\n",
        "    super().__init__()\n",
        "    # hidden layer\n",
        "    self.linear1 = nn.Linear(input_size, hidden_size)\n",
        "    # output layer\n",
        "    self.linear2 = nn.Linear(hidden_size, output_size)\n",
        "  \n",
        "  def forward(self, xb):\n",
        "    # Flatten\n",
        "    xb = xb.view(xb.size(0), -1)\n",
        "    # feed into hidden\n",
        "    output = self.linear1(xb)\n",
        "    # apply relu activation function\n",
        "    output = F.relu(output)\n",
        "    # feed into output layer\n",
        "    output = self.linear2(output)\n",
        "    return output"
      ],
      "execution_count": 0,
      "outputs": []
    },
    {
      "cell_type": "code",
      "metadata": {
        "id": "s_8gEOqj-lUY",
        "colab_type": "code",
        "colab": {}
      },
      "source": [
        "# Now lets create the model \n",
        "input_size = 28*28\n",
        "output_size = 10\n",
        "hidden_size = 64\n",
        "\n",
        "model = MnistModel(input_size, hidden_size, output_size)"
      ],
      "execution_count": 0,
      "outputs": []
    },
    {
      "cell_type": "code",
      "metadata": {
        "id": "YNEIhkLP_hfb",
        "colab_type": "code",
        "colab": {
          "base_uri": "https://localhost:8080/",
          "height": 35
        },
        "outputId": "ba4631ea-b2b6-42f2-eb7b-e470e6c23b6f"
      },
      "source": [
        " # lets look at the iniial loss of a single batch of data\n",
        " for xb, yb in train_dl: \n",
        "   outputs = model(xb)\n",
        "   loss_fn = F.cross_entropy\n",
        "   loss = loss_fn(outputs, yb)\n",
        "   print(f\"Initial loss for a single batch : {loss}\")\n",
        "   break"
      ],
      "execution_count": 9,
      "outputs": [
        {
          "output_type": "stream",
          "text": [
            "Initial loss for a single batch : 2.3034415245056152\n"
          ],
          "name": "stdout"
        }
      ]
    },
    {
      "cell_type": "markdown",
      "metadata": {
        "id": "kMJy3vBkAMWe",
        "colab_type": "text"
      },
      "source": [
        "We get a prediction right 9.863 % of the time, which is basically a random guess since we have 10 classes"
      ]
    },
    {
      "cell_type": "code",
      "metadata": {
        "id": "QGoyAym-_9PE",
        "colab_type": "code",
        "colab": {
          "base_uri": "https://localhost:8080/",
          "height": 35
        },
        "outputId": "476cc162-1c56-4bc5-a467-fa03b124cff5"
      },
      "source": [
        " torch.cuda.is_available()"
      ],
      "execution_count": 10,
      "outputs": [
        {
          "output_type": "execute_result",
          "data": {
            "text/plain": [
              "True"
            ]
          },
          "metadata": {
            "tags": []
          },
          "execution_count": 10
        }
      ]
    },
    {
      "cell_type": "markdown",
      "metadata": {
        "id": "FyjjLjZZA9OU",
        "colab_type": "text"
      },
      "source": [
        "# coolio\n",
        "---\n",
        "### We can work on the GPU now"
      ]
    },
    {
      "cell_type": "code",
      "metadata": {
        "id": "isDFr4qbBFt3",
        "colab_type": "code",
        "colab": {
          "base_uri": "https://localhost:8080/",
          "height": 35
        },
        "outputId": "a3b1cbf3-a99c-4817-be7d-0371516016c6"
      },
      "source": [
        "# defining some helper functions \n",
        "\n",
        "def get_default_device():\n",
        "  if  torch.cuda.is_available():\n",
        "    return torch.device(\"cuda\")\n",
        "  else:\n",
        "    return torch.device(\"cpu\")\n",
        "\n",
        "def to_device(data, device):\n",
        "  if isinstance(data, (list, tuple)):\n",
        "    return [to_device(x, device) for x in data]\n",
        "  else:\n",
        "    return data.to(device, non_blocking=True)\n",
        "  \n",
        "device = get_default_device()\n",
        "print(f\"selected device: {device}\")"
      ],
      "execution_count": 11,
      "outputs": [
        {
          "output_type": "stream",
          "text": [
            "selected device: cuda\n"
          ],
          "name": "stdout"
        }
      ]
    },
    {
      "cell_type": "code",
      "metadata": {
        "id": "XyDEQ6sBCVMj",
        "colab_type": "code",
        "colab": {
          "base_uri": "https://localhost:8080/",
          "height": 35
        },
        "outputId": "9bc1d095-6783-474c-b7dc-323927334bfe"
      },
      "source": [
        "# now lets try and move the data with the function\n",
        "for images, labels in  train_dl:\n",
        "  images = to_device(images, device)\n",
        "  print(images.device)\n",
        "  break"
      ],
      "execution_count": 12,
      "outputs": [
        {
          "output_type": "stream",
          "text": [
            "cuda:0\n"
          ],
          "name": "stdout"
        }
      ]
    },
    {
      "cell_type": "markdown",
      "metadata": {
        "id": "EEa1TgC_Exrv",
        "colab_type": "text"
      },
      "source": [
        "### Now to dynamically move the data batch by batch while training we define a class DeviceDataLoader\n",
        "---"
      ]
    },
    {
      "cell_type": "code",
      "metadata": {
        "id": "IAOKt1SuCmlL",
        "colab_type": "code",
        "colab": {}
      },
      "source": [
        "class DeviceDataLoader():\n",
        "  def __init__(self, dl, device):\n",
        "    self.dl = dl\n",
        "    self.device = device\n",
        "  \n",
        "  def __iter__(self):\n",
        "    for b in self.dl:\n",
        "      yield to_device(b, self.device)\n",
        "    \n",
        "  def __len(self):\n",
        "    return len(self.dl)"
      ],
      "execution_count": 0,
      "outputs": []
    },
    {
      "cell_type": "code",
      "metadata": {
        "id": "bXCDUO8DFgsn",
        "colab_type": "code",
        "colab": {}
      },
      "source": [
        "#lets wrap our dataloaders\n",
        "train_dl = DeviceDataLoader(train_dl, device)\n",
        "val_dl = DeviceDataLoader(val_dl, device)"
      ],
      "execution_count": 0,
      "outputs": []
    },
    {
      "cell_type": "markdown",
      "metadata": {
        "id": "hTx7zBbXIFTP",
        "colab_type": "text"
      },
      "source": [
        "## Ok aa a  ay Lets go ahead and train the model"
      ]
    },
    {
      "cell_type": "code",
      "metadata": {
        "id": "NIlGekqvNLsB",
        "colab_type": "code",
        "colab": {}
      },
      "source": [
        "def get_model():\n",
        "  input_size = 28*28\n",
        "  output_size = 10\n",
        "  hidden_size = 64\n",
        "  model = MnistModel(input_size, hidden_size, output_size)\n",
        "  to_device(model, device)\n",
        "  return model\n",
        "\n",
        "model = get_model()"
      ],
      "execution_count": 0,
      "outputs": []
    },
    {
      "cell_type": "code",
      "metadata": {
        "id": "XFRvA_HxGM1T",
        "colab_type": "code",
        "colab": {}
      },
      "source": [
        "def propagate_batch(model, loss_fn, xb, yb, opt=None, metric=None):\n",
        "  preds = model(xb)\n",
        "  loss = loss_fn(preds, yb)\n",
        "\n",
        "  if metric:\n",
        "    metric_result = metric(preds, yb)\n",
        "  else:\n",
        "    metric_result = None\n",
        "  \n",
        "  if opt:\n",
        "    loss.backward()\n",
        "    opt.step()\n",
        "    opt.zero_grad()\n",
        "  \n",
        "  return loss, len(xb), metric_result"
      ],
      "execution_count": 0,
      "outputs": []
    },
    {
      "cell_type": "code",
      "metadata": {
        "id": "D2Af78XbIxuy",
        "colab_type": "code",
        "colab": {}
      },
      "source": [
        "def evaluate(model, loss_fn, val_dl, metric):\n",
        "  with torch.no_grad():\n",
        "    results = [propagate_batch(model, loss_fn, xb, yb, opt=None, metric=metric) \n",
        "              for xb, yb in val_dl]\n",
        "\n",
        "    losses, lens, metrics = zip(*results)\n",
        "\n",
        "    avg_loss = np.sum(np.multiply(losses, lens))/ np.sum(lens)\n",
        "\n",
        "    if metric:\n",
        "      avg_metric = np.sum(np.multiply(metrics, lens))/ np.sum(lens)\n",
        "    else: \n",
        "      avg_metric = None\n",
        "    \n",
        "    return avg_loss, avg_metric"
      ],
      "execution_count": 0,
      "outputs": []
    },
    {
      "cell_type": "code",
      "metadata": {
        "id": "QtYUe43IJrFR",
        "colab_type": "code",
        "colab": {}
      },
      "source": [
        "def accuracy(outputs, targets):\n",
        "  _, preds = torch.max(outputs, dim=1)\n",
        "  return torch.sum(preds == targets).item() / len(preds)"
      ],
      "execution_count": 0,
      "outputs": []
    },
    {
      "cell_type": "code",
      "metadata": {
        "id": "y5pFhz_fJvVu",
        "colab_type": "code",
        "colab": {
          "base_uri": "https://localhost:8080/",
          "height": 35
        },
        "outputId": "528278b8-ed3f-4b9b-89c3-47227441a878"
      },
      "source": [
        "# intial loss on a batch of validation data\n",
        "val_loss, val_acc = evaluate(model, loss_fn, val_dl, metric=accuracy)\n",
        "print(f\"Loss: {val_loss}, Accuracy: {val_acc}\")"
      ],
      "execution_count": 19,
      "outputs": [
        {
          "output_type": "stream",
          "text": [
            "Loss: 2.3148488998413086, Accuracy: 0.08208333333333333\n"
          ],
          "name": "stdout"
        }
      ]
    },
    {
      "cell_type": "code",
      "metadata": {
        "id": "ZGoI_gqxJssc",
        "colab_type": "code",
        "colab": {}
      },
      "source": [
        "def fit(epochs, model, loss_fn, opt, train_dl, val_dl, metric=None):\n",
        "  \n",
        "  history = {\n",
        "      \"loss\" : [],\n",
        "      \"val_loss\" : [],\n",
        "      \"metric\": [],\n",
        "      \"epoch\": []\n",
        "      }\n",
        "             \n",
        "  for epoch in range(epochs):\n",
        "\n",
        "    losses = []\n",
        "    lens = []\n",
        "    # Training step\n",
        "    for features_batch, labels_batch in train_dl:\n",
        "      b_loss, b_len, _ = propagate_batch(model, loss_fn, features_batch, labels_batch,\n",
        "                                   opt)\n",
        "      losses.append(b_loss)\n",
        "      lens.append(b_len)\n",
        "\n",
        "    loss = np.sum(np.multiply(losses, lens))/ np.sum(lens)\n",
        "    \n",
        "    # evaluation step\n",
        "    val_loss, val_metric = evaluate(model, loss_fn, val_dl, metric)\n",
        "    \n",
        "    # log progress\n",
        "    history['loss'].append(loss)\n",
        "    history['val_loss'].append(val_loss)\n",
        "    history['epoch'].append(epoch)\n",
        "\n",
        "\n",
        "    # print progress\n",
        "    if metric is None:\n",
        "      print(f\"Epoch: [{epoch+1}/{epochs}] --> loss: {loss}, val_loss: {val_loss}\")\n",
        "    else:\n",
        "      history['metric'].append(val_metric)\n",
        "      print(f\"Epoch: [{epoch+1}/{epochs}] --> loss: {loss}, val_loss: {val_loss},  {metric.__name__}: {val_metric}\")\n",
        "\n",
        "  return history"
      ],
      "execution_count": 0,
      "outputs": []
    },
    {
      "cell_type": "code",
      "metadata": {
        "id": "RZj3NsgcMfFy",
        "colab_type": "code",
        "colab": {}
      },
      "source": [
        "learning_rate = 0.01\n",
        "optimizer = torch.optim.SGD(model.parameters(), lr=learning_rate)"
      ],
      "execution_count": 0,
      "outputs": []
    },
    {
      "cell_type": "code",
      "metadata": {
        "id": "p6LHKIgGMgxN",
        "colab_type": "code",
        "colab": {
          "base_uri": "https://localhost:8080/",
          "height": 926
        },
        "outputId": "9b4d253e-b4bf-4288-d3da-da5992d5f03d"
      },
      "source": [
        "history = fit(50, model, F.cross_entropy, optimizer, train_dl, val_dl, accuracy)"
      ],
      "execution_count": 22,
      "outputs": [
        {
          "output_type": "stream",
          "text": [
            "Epoch: [1/50] --> loss: 1.7236676216125488, val_loss: 1.0717463493347168,  accuracy: 0.8025833333333333\n",
            "Epoch: [2/50] --> loss: 0.7848927974700928, val_loss: 0.611664891242981,  accuracy: 0.8569166666666667\n",
            "Epoch: [3/50] --> loss: 0.538032591342926, val_loss: 0.4845110774040222,  accuracy: 0.8759166666666667\n",
            "Epoch: [4/50] --> loss: 0.4512145221233368, val_loss: 0.42509180307388306,  accuracy: 0.8869166666666667\n",
            "Epoch: [5/50] --> loss: 0.40675878524780273, val_loss: 0.3923387825489044,  accuracy: 0.8934166666666666\n",
            "Epoch: [6/50] --> loss: 0.37907180190086365, val_loss: 0.37088650465011597,  accuracy: 0.89725\n",
            "Epoch: [7/50] --> loss: 0.3596908748149872, val_loss: 0.3548332750797272,  accuracy: 0.8996666666666666\n",
            "Epoch: [8/50] --> loss: 0.345138818025589, val_loss: 0.342506468296051,  accuracy: 0.9029166666666667\n",
            "Epoch: [9/50] --> loss: 0.3331327736377716, val_loss: 0.3327125310897827,  accuracy: 0.9055\n",
            "Epoch: [10/50] --> loss: 0.32316336035728455, val_loss: 0.32356300950050354,  accuracy: 0.9086666666666666\n",
            "Epoch: [11/50] --> loss: 0.31456711888313293, val_loss: 0.315753698348999,  accuracy: 0.9105\n",
            "Epoch: [12/50] --> loss: 0.30639299750328064, val_loss: 0.3100845217704773,  accuracy: 0.9119166666666667\n",
            "Epoch: [13/50] --> loss: 0.299419641494751, val_loss: 0.3039489686489105,  accuracy: 0.9139166666666667\n",
            "Epoch: [14/50] --> loss: 0.2929014265537262, val_loss: 0.29675060510635376,  accuracy: 0.91575\n",
            "Epoch: [15/50] --> loss: 0.2868148684501648, val_loss: 0.291130393743515,  accuracy: 0.918\n",
            "Epoch: [16/50] --> loss: 0.28103312849998474, val_loss: 0.28600141406059265,  accuracy: 0.9188333333333333\n",
            "Epoch: [17/50] --> loss: 0.2758159041404724, val_loss: 0.2815806567668915,  accuracy: 0.91975\n",
            "Epoch: [18/50] --> loss: 0.2706817090511322, val_loss: 0.27779310941696167,  accuracy: 0.9209166666666667\n",
            "Epoch: [19/50] --> loss: 0.2659085988998413, val_loss: 0.27253901958465576,  accuracy: 0.9229166666666667\n",
            "Epoch: [20/50] --> loss: 0.26116815209388733, val_loss: 0.2689625322818756,  accuracy: 0.9238333333333333\n",
            "Epoch: [21/50] --> loss: 0.2565832734107971, val_loss: 0.26415035128593445,  accuracy: 0.92525\n",
            "Epoch: [22/50] --> loss: 0.2522290349006653, val_loss: 0.2603222727775574,  accuracy: 0.9266666666666666\n",
            "Epoch: [23/50] --> loss: 0.2479940801858902, val_loss: 0.2565167248249054,  accuracy: 0.92725\n",
            "Epoch: [24/50] --> loss: 0.24399246275424957, val_loss: 0.25263702869415283,  accuracy: 0.9284166666666667\n",
            "Epoch: [25/50] --> loss: 0.23999091982841492, val_loss: 0.24964241683483124,  accuracy: 0.9290833333333334\n",
            "Epoch: [26/50] --> loss: 0.23621782660484314, val_loss: 0.24682345986366272,  accuracy: 0.9308333333333333\n",
            "Epoch: [27/50] --> loss: 0.2325107455253601, val_loss: 0.2429744005203247,  accuracy: 0.9311666666666667\n",
            "Epoch: [28/50] --> loss: 0.2289864420890808, val_loss: 0.23970434069633484,  accuracy: 0.93125\n",
            "Epoch: [29/50] --> loss: 0.22579845786094666, val_loss: 0.23758120834827423,  accuracy: 0.9326666666666666\n",
            "Epoch: [30/50] --> loss: 0.22241294384002686, val_loss: 0.23406264185905457,  accuracy: 0.93375\n",
            "Epoch: [31/50] --> loss: 0.21918998658657074, val_loss: 0.23164284229278564,  accuracy: 0.935\n",
            "Epoch: [32/50] --> loss: 0.21620874106884003, val_loss: 0.22851791977882385,  accuracy: 0.9359166666666666\n",
            "Epoch: [33/50] --> loss: 0.2130807489156723, val_loss: 0.22615933418273926,  accuracy: 0.9349166666666666\n",
            "Epoch: [34/50] --> loss: 0.21021854877471924, val_loss: 0.22303122282028198,  accuracy: 0.93625\n",
            "Epoch: [35/50] --> loss: 0.2074606716632843, val_loss: 0.22043398022651672,  accuracy: 0.9369166666666666\n",
            "Epoch: [36/50] --> loss: 0.20473089814186096, val_loss: 0.21856482326984406,  accuracy: 0.9366666666666666\n",
            "Epoch: [37/50] --> loss: 0.2020513415336609, val_loss: 0.21612726151943207,  accuracy: 0.9383333333333334\n",
            "Epoch: [38/50] --> loss: 0.19953881204128265, val_loss: 0.21446935832500458,  accuracy: 0.9398333333333333\n",
            "Epoch: [39/50] --> loss: 0.1970251202583313, val_loss: 0.21126672625541687,  accuracy: 0.9385833333333333\n",
            "Epoch: [40/50] --> loss: 0.19468192756175995, val_loss: 0.20948903262615204,  accuracy: 0.9404166666666667\n",
            "Epoch: [41/50] --> loss: 0.19210849702358246, val_loss: 0.20787060260772705,  accuracy: 0.9400833333333334\n",
            "Epoch: [42/50] --> loss: 0.1898442804813385, val_loss: 0.20532098412513733,  accuracy: 0.94025\n",
            "Epoch: [43/50] --> loss: 0.1875145584344864, val_loss: 0.20300795137882233,  accuracy: 0.9411666666666667\n",
            "Epoch: [44/50] --> loss: 0.18529872596263885, val_loss: 0.20093947649002075,  accuracy: 0.9416666666666667\n",
            "Epoch: [45/50] --> loss: 0.18315176665782928, val_loss: 0.19932925701141357,  accuracy: 0.9420833333333334\n",
            "Epoch: [46/50] --> loss: 0.18094010651111603, val_loss: 0.19803741574287415,  accuracy: 0.9420833333333334\n",
            "Epoch: [47/50] --> loss: 0.17888663709163666, val_loss: 0.1962943971157074,  accuracy: 0.942\n",
            "Epoch: [48/50] --> loss: 0.17686645686626434, val_loss: 0.19385914504528046,  accuracy: 0.9433333333333334\n",
            "Epoch: [49/50] --> loss: 0.17492204904556274, val_loss: 0.19232797622680664,  accuracy: 0.9433333333333334\n",
            "Epoch: [50/50] --> loss: 0.17302845418453217, val_loss: 0.19028878211975098,  accuracy: 0.94475\n"
          ],
          "name": "stdout"
        }
      ]
    },
    {
      "cell_type": "code",
      "metadata": {
        "id": "QPWx8r9tMi9Y",
        "colab_type": "code",
        "colab": {
          "base_uri": "https://localhost:8080/",
          "height": 533
        },
        "outputId": "b5abcb4e-2fdb-40fc-e56e-74c4c463097e"
      },
      "source": [
        "plt.plot(history['epoch'], history['val_loss'], 'r', label='val_loss')\n",
        "plt.plot(history['epoch'], history['loss'], 'b', label='loss')\n",
        "#plt.legend(loc='best')\n",
        "plt.show()\n",
        "\n",
        "plt.plot(history['epoch'], history['metric'])\n",
        "plt.title('Validation Accuracy')\n",
        "plt.show()"
      ],
      "execution_count": 25,
      "outputs": [
        {
          "output_type": "display_data",
          "data": {
            "image/png": "[encoded data removed]",
            "text/plain": [
              "<Figure size 432x288 with 1 Axes>"
            ]
          },
          "metadata": {
            "tags": [],
            "needs_background": "light"
          }
        },
        {
          "output_type": "display_data",
          "data": {
            "image/png": "[encoded data removed]",
            "text/plain": [
              "<Figure size 432x288 with 1 Axes>"
            ]
          },
          "metadata": {
            "tags": [],
            "needs_background": "light"
          }
        }
      ]
    },
    {
      "cell_type": "markdown",
      "metadata": {
        "id": "ZyOuW_BYQCzO",
        "colab_type": "text"
      },
      "source": [
        "Lets save the model weights and biases"
      ]
    },
    {
      "cell_type": "code",
      "metadata": {
        "id": "NeGNt1uLQGup",
        "colab_type": "code",
        "colab": {}
      },
      "source": [
        "# saving the model\n",
        "torch.save(model.state_dict(), \"mnist-ffn-95acc.pth\")"
      ],
      "execution_count": 0,
      "outputs": []
    },
    {
      "cell_type": "code",
      "metadata": {
        "id": "98a6TSlUQd1w",
        "colab_type": "code",
        "colab": {
          "base_uri": "https://localhost:8080/",
          "height": 88
        },
        "outputId": "b91c782a-2365-49a9-fd02-f484a62b96d5"
      },
      "source": [
        "for t in model.parameters():\n",
        "  print(t.shape)"
      ],
      "execution_count": 28,
      "outputs": [
        {
          "output_type": "stream",
          "text": [
            "torch.Size([64, 784])\n",
            "torch.Size([64])\n",
            "torch.Size([10, 64])\n",
            "torch.Size([10])\n"
          ],
          "name": "stdout"
        }
      ]
    },
    {
      "cell_type": "markdown",
      "metadata": {
        "id": "yM7fZqUPQo8p",
        "colab_type": "text"
      },
      "source": [
        "# Lets test it out on the test data"
      ]
    },
    {
      "cell_type": "code",
      "metadata": {
        "id": "cE9MzsyyQf9q",
        "colab_type": "code",
        "colab": {}
      },
      "source": [
        "# trying out the testdataset\n",
        "test_dataset = torchvision.datasets.MNIST(root='data/',\n",
        "                                          train=False,\n",
        "                                          download=True,\n",
        "                                          transform=transforms.ToTensor())"
      ],
      "execution_count": 0,
      "outputs": []
    },
    {
      "cell_type": "code",
      "metadata": {
        "id": "SquwlP1mQucB",
        "colab_type": "code",
        "colab": {}
      },
      "source": [
        "def predict_img(img, model):\n",
        "  features = img.unsqueeze(0)\n",
        "  output = model(features)\n",
        "  _, preds = torch.max(output, dim=1)\n",
        "  return preds.item()"
      ],
      "execution_count": 0,
      "outputs": []
    },
    {
      "cell_type": "code",
      "metadata": {
        "id": "1ZrnlCl1Q3w1",
        "colab_type": "code",
        "colab": {
          "base_uri": "https://localhost:8080/",
          "height": 52
        },
        "outputId": "254db8fd-9b48-4032-87cc-1ac74a3ab2ab"
      },
      "source": [
        "test_dl = DataLoader(test_dataset, batch_size=100)\n",
        "test_dl = DeviceDataLoader(test_dl, device)\n",
        "test_loss, test_acc = evaluate(model, loss_fn, test_dl, metric=accuracy)\n",
        "print(f\"Loss: {test_loss}\\nAccuracy: {test_acc}\")"
      ],
      "execution_count": 36,
      "outputs": [
        {
          "output_type": "stream",
          "text": [
            "Loss: 0.17720510065555573\n",
            "Accuracy: 0.9483\n"
          ],
          "name": "stdout"
        }
      ]
    },
    {
      "cell_type": "markdown",
      "metadata": {
        "id": "bZS9vY_pRLtk",
        "colab_type": "text"
      },
      "source": [
        "# Coolio bai "
      ]
    }
  ]
}