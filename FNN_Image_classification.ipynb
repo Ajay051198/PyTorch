{
  "nbformat": 4,
  "nbformat_minor": 0,
  "metadata": {
    "colab": {
      "name": "FNN-Image-classification.ipynb",
      "provenance": [],
      "collapsed_sections": []
    },
    "kernelspec": {
      "name": "python3",
      "display_name": "Python 3"
    }
  },
  "cells": [
    {
      "cell_type": "code",
      "metadata": {
        "id": "Yk5krXDcYkpq",
        "colab_type": "code",
        "colab": {}
      },
      "source": [
        "import numpy as np\n",
        "import torch \n",
        "import torchvision\n",
        "import torch.nn as nn\n",
        "import torch.nn.functional as F"
      ],
      "execution_count": 0,
      "outputs": []
    },
    {
      "cell_type": "code",
      "metadata": {
        "id": "cU4-5ZKHZLu7",
        "colab_type": "code",
        "colab": {}
      },
      "source": [
        "import matplotlib.pyplot as plt\n",
        "import torchvision.transforms as transform"
      ],
      "execution_count": 0,
      "outputs": []
    },
    {
      "cell_type": "code",
      "metadata": {
        "id": "5Mhoc0ZLZbQt",
        "colab_type": "code",
        "colab": {}
      },
      "source": [
        "# loading the data\n",
        "dataset = torchvision.datasets.MNIST('data/',\n",
        "                                     train=True,\n",
        "                                     transform=transform.ToTensor(),\n",
        "                                     download=True)"
      ],
      "execution_count": 0,
      "outputs": []
    },
    {
      "cell_type": "code",
      "metadata": {
        "id": "gwPuGG8IZsU5",
        "colab_type": "code",
        "colab": {
          "base_uri": "https://localhost:8080/",
          "height": 35
        },
        "outputId": "ad4de3d0-1f9c-4a6b-cf31-808f97ea4878"
      },
      "source": [
        "# inspecting data\n",
        "img_tensor, label = dataset[0]\n",
        "print(f\"the shape of a sample in the dataset : {img_tensor.shape}\")"
      ],
      "execution_count": 4,
      "outputs": [
        {
          "output_type": "stream",
          "text": [
            "the shape of a sample in the dataset : torch.Size([1, 28, 28])\n"
          ],
          "name": "stdout"
        }
      ]
    },
    {
      "cell_type": "code",
      "metadata": {
        "id": "HWgVO6s5Z5Ps",
        "colab_type": "code",
        "colab": {
          "base_uri": "https://localhost:8080/",
          "height": 299
        },
        "outputId": "aba0cf7d-7301-4dbc-b930-6d8ce0e86266"
      },
      "source": [
        "# to plot image tensors\n",
        "idx = np.random.randint(0,len(dataset))\n",
        "img_tensor, label = dataset[idx]\n",
        "plt.imshow(img_tensor[0,:,:], cmap = 'gray')\n",
        "plt.title(label)"
      ],
      "execution_count": 5,
      "outputs": [
        {
          "output_type": "execute_result",
          "data": {
            "text/plain": [
              "Text(0.5, 1.0, '8')"
            ]
          },
          "metadata": {
            "tags": []
          },
          "execution_count": 5
        },
        {
          "output_type": "display_data",
          "data": {
            "image/png": "[encoded data removed]",
            "text/plain": [
              "<Figure size 432x288 with 1 Axes>"
            ]
          },
          "metadata": {
            "tags": [],
            "needs_background": "light"
          }
        }
      ]
    },
    {
      "cell_type": "markdown",
      "metadata": {
        "id": "lrZZn8OcaW7o",
        "colab_type": "text"
      },
      "source": [
        "### Spliting the data into train and validation sets"
      ]
    },
    {
      "cell_type": "code",
      "metadata": {
        "id": "mnLKZKvCaL3-",
        "colab_type": "code",
        "colab": {}
      },
      "source": [
        "def split_indices(len, val_split):\n",
        "  split_point = int(len*val_split)\n",
        "  idxs = np.random.permutation(len)\n",
        "  return idxs[split_point:], idxs[:split_point]"
      ],
      "execution_count": 0,
      "outputs": []
    },
    {
      "cell_type": "code",
      "metadata": {
        "id": "q9F6eOtlauKu",
        "colab_type": "code",
        "colab": {
          "base_uri": "https://localhost:8080/",
          "height": 52
        },
        "outputId": "587cd3d1-658d-411a-86aa-6f06f5fbe95a"
      },
      "source": [
        "train_idxs, val_idxs = split_indices(len(dataset), 0.2)\n",
        "print(f\"Number of samples in the training set: {len(train_idxs)}\")\n",
        "print(f\"Number of samples in the validation set: {len(val_idxs)}\")"
      ],
      "execution_count": 7,
      "outputs": [
        {
          "output_type": "stream",
          "text": [
            "Number of samples in the training set: 48000\n",
            "Number of samples in the validation set: 12000\n"
          ],
          "name": "stdout"
        }
      ]
    },
    {
      "cell_type": "markdown",
      "metadata": {
        "id": "svVyZHE8bX0K",
        "colab_type": "text"
      },
      "source": [
        " To specify which indices to use when using the dataloader function from pytorch.data we use the SubsetRandomSamplet object"
      ]
    },
    {
      "cell_type": "code",
      "metadata": {
        "id": "1GhY700BbCRm",
        "colab_type": "code",
        "colab": {}
      },
      "source": [
        "from torch.utils.data.sampler import SubsetRandomSampler\n",
        "from torch.utils.data import DataLoader"
      ],
      "execution_count": 0,
      "outputs": []
    },
    {
      "cell_type": "code",
      "metadata": {
        "id": "_Oq-sLrrbiwH",
        "colab_type": "code",
        "colab": {}
      },
      "source": [
        "batch_size = 100\n",
        "\n",
        "train_sampler = SubsetRandomSampler(train_idxs)\n",
        "val_sampler = SubsetRandomSampler(val_idxs)\n",
        "\n",
        "train_dl = DataLoader(dataset, batch_size, sampler=train_sampler)\n",
        "val_dl = DataLoader(dataset, batch_size, sampler=val_sampler)"
      ],
      "execution_count": 0,
      "outputs": []
    },
    {
      "cell_type": "markdown",
      "metadata": {
        "id": "ci8CAv6scM3c",
        "colab_type": "text"
      },
      "source": [
        "### Done with preparing the data\n",
        "---\n",
        "Lets Build the model"
      ]
    },
    {
      "cell_type": "code",
      "metadata": {
        "id": "j9Zz8dhocAv9",
        "colab_type": "code",
        "colab": {}
      },
      "source": [
        "input_size = 28*28\n",
        "num_classes = 10"
      ],
      "execution_count": 0,
      "outputs": []
    },
    {
      "cell_type": "code",
      "metadata": {
        "id": "Ma6oMtO3cHJA",
        "colab_type": "code",
        "colab": {}
      },
      "source": [
        "class MnistModel(nn.Module):\n",
        "  def __init__(self):\n",
        "    super().__init__()\n",
        "    self.linear = nn.Linear(input_size, num_classes)\n",
        "  \n",
        "  def forward(self, input_batch):\n",
        "    input_batch = input_batch.reshape(-1, 28*28)\n",
        "    out = self.linear(input_batch)\n",
        "    return out"
      ],
      "execution_count": 0,
      "outputs": []
    },
    {
      "cell_type": "code",
      "metadata": {
        "id": "RjJGxdwaczdu",
        "colab_type": "code",
        "colab": {}
      },
      "source": [
        "# okay now lets create a model object\n",
        "model = MnistModel()"
      ],
      "execution_count": 0,
      "outputs": []
    },
    {
      "cell_type": "code",
      "metadata": {
        "id": "AdyB_aJvc-GM",
        "colab_type": "code",
        "colab": {
          "base_uri": "https://localhost:8080/",
          "height": 301
        },
        "outputId": "e7cb059f-a581-4adb-b33c-1987e09d0bcd"
      },
      "source": [
        "# lets take a look at the shape of the weights and biases and the parameter collections\n",
        "print(f\"Shape of the W matrix : {model.linear.weight.shape}\")\n",
        "print(f\"Shape of the b matrix: {model.linear.bias.shape}\")\n",
        "print(\"\\n\\n\")\n",
        "print(list(model.parameters()))"
      ],
      "execution_count": 13,
      "outputs": [
        {
          "output_type": "stream",
          "text": [
            "Shape of the W matrix : torch.Size([10, 784])\n",
            "Shape of the b matrix: torch.Size([10])\n",
            "\n",
            "\n",
            "\n",
            "[Parameter containing:\n",
            "tensor([[-0.0356,  0.0030, -0.0204,  ...,  0.0057, -0.0338,  0.0333],\n",
            "        [ 0.0243,  0.0230, -0.0105,  ..., -0.0248,  0.0297, -0.0206],\n",
            "        [ 0.0324,  0.0347,  0.0128,  ...,  0.0230,  0.0011,  0.0242],\n",
            "        ...,\n",
            "        [ 0.0199, -0.0266,  0.0087,  ..., -0.0165, -0.0203,  0.0255],\n",
            "        [ 0.0197,  0.0039, -0.0144,  ...,  0.0066, -0.0050,  0.0272],\n",
            "        [ 0.0268, -0.0346, -0.0101,  ...,  0.0276, -0.0178,  0.0042]],\n",
            "       requires_grad=True), Parameter containing:\n",
            "tensor([ 0.0170,  0.0259,  0.0028,  0.0182, -0.0290, -0.0317,  0.0153, -0.0232,\n",
            "         0.0038,  0.0197], requires_grad=True)]\n"
          ],
          "name": "stdout"
        }
      ]
    },
    {
      "cell_type": "markdown",
      "metadata": {
        "id": "ouq4BYFddbuQ",
        "colab_type": "text"
      },
      "source": [
        "I have explained some theory at the end of this notebook behind the working of the mod"
      ]
    },
    {
      "cell_type": "markdown",
      "metadata": {
        "id": "FLhmGLh_doRT",
        "colab_type": "text"
      },
      "source": [
        "# Training the model, consists of three steps: \n",
        "---\n",
        "- a loss batch function which computes the loss after each batch, with a toggleable optimize option which updates the weights and metric option in case we need to add another metric of evaluation in addtion to loss\n",
        "- an evaluate function which works with torch.no_grad and computes the avg_loss and other metrics\n",
        "- Finally a fit function which encapsulates the whole process of fiting on the training data and evaluating on the validation data for each epoch\n",
        "- (optional: metric defination if required)"
      ]
    },
    {
      "cell_type": "code",
      "metadata": {
        "id": "3LbRMXRudJJf",
        "colab_type": "code",
        "colab": {}
      },
      "source": [
        "def propagate_batch(model, loss_fn, features_batch, labels_batch, opt=None, metric=None):\n",
        "  preds = model(features_batch)\n",
        "  loss = loss_fn(preds, labels_batch)\n",
        "\n",
        "  if metric:\n",
        "    metric_result = metric(preds, labels_batch)\n",
        "  else: \n",
        "    metric_result = None\n",
        "  \n",
        "  if opt:\n",
        "    loss.backward()\n",
        "    opt.step()\n",
        "    opt.zero_grad()\n",
        "  \n",
        "  # len is required to find the average of each metric\n",
        "  return loss.item(), len(labels_batch), metric_result"
      ],
      "execution_count": 0,
      "outputs": []
    },
    {
      "cell_type": "code",
      "metadata": {
        "id": "FszLae-3fj1l",
        "colab_type": "code",
        "colab": {}
      },
      "source": [
        "def evaluate(model, loss_fn, val_dl, metric=None):\n",
        "  # imp disable autograd to save computation power\n",
        "  with torch.no_grad():\n",
        "    results = [propagate_batch(model, loss_fn, features_batch, labels_batch, \n",
        "                               opt=None, metric=metric) \n",
        "              for features_batch, labels_batch in val_dl]\n",
        "\n",
        "    losses, lens, metrics = zip(*results)\n",
        "\n",
        "    total = np.sum(lens)\n",
        "\n",
        "    avg_loss = np.sum(np.multiply(losses, lens)) / total\n",
        "\n",
        "    if metric:\n",
        "      avg_metric = np.sum(np.multiply(metrics, lens)) / total\n",
        "    else: \n",
        "      avg_metric = None\n",
        "    \n",
        "    return avg_loss, total, avg_metric"
      ],
      "execution_count": 0,
      "outputs": []
    },
    {
      "cell_type": "code",
      "metadata": {
        "id": "Is3Uuw9JhhIS",
        "colab_type": "code",
        "colab": {}
      },
      "source": [
        "def accuracy(outputs, targets):\n",
        "  _, preds = torch.max(outputs, dim=1)\n",
        "  return torch.sum(preds == targets).item() / len(preds)"
      ],
      "execution_count": 0,
      "outputs": []
    },
    {
      "cell_type": "code",
      "metadata": {
        "id": "fbTyAIO8h4w7",
        "colab_type": "code",
        "colab": {}
      },
      "source": [
        "loss_fn = F.cross_entropy"
      ],
      "execution_count": 0,
      "outputs": []
    },
    {
      "cell_type": "code",
      "metadata": {
        "id": "zHRPfMYHhXjn",
        "colab_type": "code",
        "colab": {
          "base_uri": "https://localhost:8080/",
          "height": 35
        },
        "outputId": "17d301c8-0db9-4dcf-a9ef-2661f580b6b6"
      },
      "source": [
        "# test \n",
        "val_loss, total, val_acc = evaluate(model, loss_fn, val_dl, metric=accuracy)\n",
        "print(f\"Loss: {val_loss}, Accuracy: {val_acc}\")"
      ],
      "execution_count": 18,
      "outputs": [
        {
          "output_type": "stream",
          "text": [
            "Loss: 2.3468224585056303, Accuracy: 0.08058333333333334\n"
          ],
          "name": "stdout"
        }
      ]
    },
    {
      "cell_type": "code",
      "metadata": {
        "id": "tRAvKN0Uhb6P",
        "colab_type": "code",
        "colab": {}
      },
      "source": [
        "def fit(epochs, model, loss_fn, opt, train_dl, val_dl, metric=None):\n",
        "  \n",
        "  history = {\"val_loss\" : [],\n",
        "             \"metric\": [],\n",
        "             \"epoch\": []\n",
        "             }\n",
        "  for epoch in range(epochs):\n",
        "\n",
        "    # Training step\n",
        "    for features_batch, labels_batch in train_dl:\n",
        "      loss, _, _ = propagate_batch(model, loss_fn, features_batch, labels_batch,\n",
        "                                   opt)\n",
        "    \n",
        "    # evaluation step\n",
        "    val_loss, total, val_metric = evaluate(model, loss_fn, val_dl, metric)\n",
        "    \n",
        "    # log progress\n",
        "    history['val_loss'].append(val_loss)\n",
        "    history['epoch'].append(epoch)\n",
        "    if metric is None:\n",
        "      print(f\"Epoch: [{epoch+1}/{epochs}], Loss: {val_loss}\")\n",
        "    else:\n",
        "      history['metric'].append(val_metric)\n",
        "      print(f\"Epoch: [{epoch+1}/{epochs}], Loss: {val_loss}, {metric.__name__}: {val_metric}\")\n",
        "\n",
        "  return history"
      ],
      "execution_count": 0,
      "outputs": []
    },
    {
      "cell_type": "code",
      "metadata": {
        "id": "tK7CxtgMi6Yx",
        "colab_type": "code",
        "colab": {}
      },
      "source": [
        "learning_rate = 0.001\n",
        "optimizer = torch.optim.SGD(model.parameters(), lr=learning_rate)"
      ],
      "execution_count": 0,
      "outputs": []
    },
    {
      "cell_type": "code",
      "metadata": {
        "id": "KsI7gKd0jhpi",
        "colab_type": "code",
        "colab": {
          "base_uri": "https://localhost:8080/",
          "height": 195
        },
        "outputId": "94bda744-2158-49a6-e884-a1fe25160a8f"
      },
      "source": [
        "history = fit(10, model, F.cross_entropy, optimizer, train_dl, val_dl, accuracy)"
      ],
      "execution_count": 21,
      "outputs": [
        {
          "output_type": "stream",
          "text": [
            "Epoch: [1/10], Loss: 1.9050560881694159, accuracy: 0.6441666666666667\n",
            "Epoch: [2/10], Loss: 1.5975238213936487, accuracy: 0.7570833333333333\n",
            "Epoch: [3/10], Loss: 1.3815788835287095, accuracy: 0.7843333333333333\n",
            "Epoch: [4/10], Loss: 1.226641704638799, accuracy: 0.79975\n",
            "Epoch: [5/10], Loss: 1.1119710887471834, accuracy: 0.8118333333333333\n",
            "Epoch: [6/10], Loss: 1.0243883172671, accuracy: 0.8195\n",
            "Epoch: [7/10], Loss: 0.9556464875737826, accuracy: 0.8249166666666666\n",
            "Epoch: [8/10], Loss: 0.9002589662869771, accuracy: 0.8313333333333334\n",
            "Epoch: [9/10], Loss: 0.8546782597899437, accuracy: 0.83625\n",
            "Epoch: [10/10], Loss: 0.816401910285155, accuracy: 0.8391666666666666\n"
          ],
          "name": "stdout"
        }
      ]
    },
    {
      "cell_type": "code",
      "metadata": {
        "id": "fLkBgkcBlNoL",
        "colab_type": "code",
        "colab": {
          "base_uri": "https://localhost:8080/",
          "height": 35
        },
        "outputId": "c3833c30-7dd3-49f0-eb4a-e9cbae2ce924"
      },
      "source": [
        "history.keys()"
      ],
      "execution_count": 23,
      "outputs": [
        {
          "output_type": "execute_result",
          "data": {
            "text/plain": [
              "dict_keys(['val_loss', 'metric', 'epoch'])"
            ]
          },
          "metadata": {
            "tags": []
          },
          "execution_count": 23
        }
      ]
    },
    {
      "cell_type": "code",
      "metadata": {
        "id": "oZmZkYWamFM5",
        "colab_type": "code",
        "colab": {
          "base_uri": "https://localhost:8080/",
          "height": 265
        },
        "outputId": "15bfb5e6-ca44-4668-c278-08af6e4e4abe"
      },
      "source": [
        "plt.plot(history['val_loss'], history['epoch'])\n",
        "plt.show()"
      ],
      "execution_count": 25,
      "outputs": [
        {
          "output_type": "display_data",
          "data": {
            "image/png": "[encoded data removed]",
            "text/plain": [
              "<Figure size 432x288 with 1 Axes>"
            ]
          },
          "metadata": {
            "tags": [],
            "needs_background": "light"
          }
        }
      ]
    },
    {
      "cell_type": "code",
      "metadata": {
        "id": "1bB6jr5UmRAO",
        "colab_type": "code",
        "colab": {
          "base_uri": "https://localhost:8080/",
          "height": 265
        },
        "outputId": "572f8995-5dc0-41dd-fa39-1c64667129da"
      },
      "source": [
        "plt.plot(history['metric'], history['epoch'])\n",
        "plt.show()"
      ],
      "execution_count": 26,
      "outputs": [
        {
          "output_type": "display_data",
          "data": {
            "image/png": "[encoded data removed]",
            "text/plain": [
              "<Figure size 432x288 with 1 Axes>"
            ]
          },
          "metadata": {
            "tags": [],
            "needs_background": "light"
          }
        }
      ]
    },
    {
      "cell_type": "code",
      "metadata": {
        "id": "HYh7kG2ZmUxP",
        "colab_type": "code",
        "colab": {}
      },
      "source": [
        "# looks like we are still improving lets train for longer\n",
        "history = fit(10, model, F.cross_entropy, optimizer, train_dl, val_dl, accuracy)"
      ],
      "execution_count": 0,
      "outputs": []
    },
    {
      "cell_type": "code",
      "metadata": {
        "id": "rgKMJjXTnB6K",
        "colab_type": "code",
        "colab": {
          "base_uri": "https://localhost:8080/",
          "height": 545
        },
        "outputId": "e839558b-5b40-4b91-c020-ed8c8df4c03e"
      },
      "source": [
        "plt.plot(history['epoch'], history['val_loss'])\n",
        "plt.title('Validation loss')\n",
        "plt.show()\n",
        "plt.plot(history['epoch'], history['metric'])\n",
        "plt.title('Accuracy')\n",
        "plt.show()"
      ],
      "execution_count": 29,
      "outputs": [
        {
          "output_type": "display_data",
          "data": {
            "image/png": "[encoded data removed]",
            "text/plain": [
              "<Figure size 432x288 with 1 Axes>"
            ]
          },
          "metadata": {
            "tags": [],
            "needs_background": "light"
          }
        },
        {
          "output_type": "display_data",
          "data": {
            "image/png": "[encoded data removed]",
            "text/plain": [
              "<Figure size 432x288 with 1 Axes>"
            ]
          },
          "metadata": {
            "tags": [],
            "needs_background": "light"
          }
        }
      ]
    },
    {
      "cell_type": "code",
      "metadata": {
        "id": "f7PYlhLDnJUz",
        "colab_type": "code",
        "colab": {
          "base_uri": "https://localhost:8080/",
          "height": 900
        },
        "outputId": "c8a162ac-7b4f-40ab-e21c-38ebf3d61504"
      },
      "source": [
        "# We are stil improving lets train for longer:\n",
        "history3 = fit(20, model, F.cross_entropy, optimizer, train_dl, val_dl, accuracy)\n",
        "plt.plot(history3['epoch'], history3['val_loss'])\n",
        "plt.title('Validation loss')\n",
        "plt.show()\n",
        "plt.plot(history3['epoch'], history3['metric'])\n",
        "plt.title('Accuracy')\n",
        "plt.show()"
      ],
      "execution_count": 31,
      "outputs": [
        {
          "output_type": "stream",
          "text": [
            "Epoch: [1/20], Loss: 0.600577158977588, accuracy: 0.8629166666666667\n",
            "Epoch: [2/20], Loss: 0.5911727550129096, accuracy: 0.8636666666666667\n",
            "Epoch: [3/20], Loss: 0.5824525428315004, accuracy: 0.8648333333333333\n",
            "Epoch: [4/20], Loss: 0.5743317663669586, accuracy: 0.8655833333333334\n",
            "Epoch: [5/20], Loss: 0.5667278006672859, accuracy: 0.8669166666666667\n",
            "Epoch: [6/20], Loss: 0.5596019883950551, accuracy: 0.8679166666666667\n",
            "Epoch: [7/20], Loss: 0.5529036785165469, accuracy: 0.8685833333333334\n",
            "Epoch: [8/20], Loss: 0.5465952803691229, accuracy: 0.8694166666666666\n",
            "Epoch: [9/20], Loss: 0.5406507737934589, accuracy: 0.8700833333333333\n",
            "Epoch: [10/20], Loss: 0.5350171556075414, accuracy: 0.8713333333333333\n",
            "Epoch: [11/20], Loss: 0.5296776582797368, accuracy: 0.873\n",
            "Epoch: [12/20], Loss: 0.5246163609127203, accuracy: 0.8734166666666666\n",
            "Epoch: [13/20], Loss: 0.5198011939724286, accuracy: 0.8740833333333333\n",
            "Epoch: [14/20], Loss: 0.5152111279467742, accuracy: 0.875\n",
            "Epoch: [15/20], Loss: 0.5108385421335697, accuracy: 0.8755\n",
            "Epoch: [16/20], Loss: 0.5066700567801793, accuracy: 0.8760833333333333\n",
            "Epoch: [17/20], Loss: 0.5026776855190594, accuracy: 0.8760833333333333\n",
            "Epoch: [18/20], Loss: 0.4988640839854876, accuracy: 0.8766666666666667\n",
            "Epoch: [19/20], Loss: 0.4952075498799483, accuracy: 0.8771666666666667\n",
            "Epoch: [20/20], Loss: 0.4916948817670345, accuracy: 0.8781666666666667\n"
          ],
          "name": "stdout"
        },
        {
          "output_type": "display_data",
          "data": {
            "image/png": "[encoded data removed]",
            "text/plain": [
              "<Figure size 432x288 with 1 Axes>"
            ]
          },
          "metadata": {
            "tags": [],
            "needs_background": "light"
          }
        },
        {
          "output_type": "display_data",
          "data": {
            "image/png": "[encoded data removed]",
            "text/plain": [
              "<Figure size 432x288 with 1 Axes>"
            ]
          },
          "metadata": {
            "tags": [],
            "needs_background": "light"
          }
        }
      ]
    },
    {
      "cell_type": "code",
      "metadata": {
        "id": "B7SLEMfhnuhQ",
        "colab_type": "code",
        "colab": {}
      },
      "source": [
        "# trying out the testdataset\n",
        "test_dataset = torchvision.datasets.MNIST(root='data/',\n",
        "                                          train=False,\n",
        "                                          download=True,\n",
        "                                          transform=transform.ToTensor())"
      ],
      "execution_count": 0,
      "outputs": []
    },
    {
      "cell_type": "code",
      "metadata": {
        "id": "l6ac4TAboO8D",
        "colab_type": "code",
        "colab": {
          "base_uri": "https://localhost:8080/",
          "height": 283
        },
        "outputId": "d1e0e9f3-16e4-4b1a-840d-37b274e5d50a"
      },
      "source": [
        "img, label = test_dataset[0]\n",
        "plt.imshow(img[0])"
      ],
      "execution_count": 34,
      "outputs": [
        {
          "output_type": "execute_result",
          "data": {
            "text/plain": [
              "<matplotlib.image.AxesImage at 0x7f99528233c8>"
            ]
          },
          "metadata": {
            "tags": []
          },
          "execution_count": 34
        },
        {
          "output_type": "display_data",
          "data": {
            "image/png": "[encoded data removed]",
            "text/plain": [
              "<Figure size 432x288 with 1 Axes>"
            ]
          },
          "metadata": {
            "tags": [],
            "needs_background": "light"
          }
        }
      ]
    },
    {
      "cell_type": "code",
      "metadata": {
        "id": "kjA2NCo0ohXq",
        "colab_type": "code",
        "colab": {}
      },
      "source": [
        "def predict_img(img, model):\n",
        "  features = img.unsqueeze(0)\n",
        "  output = model(features)\n",
        "  _, preds = torch.max(output, dim=1)\n",
        "  return preds.item()"
      ],
      "execution_count": 0,
      "outputs": []
    },
    {
      "cell_type": "code",
      "metadata": {
        "id": "nxyJiBnCpCoJ",
        "colab_type": "code",
        "colab": {
          "base_uri": "https://localhost:8080/",
          "height": 299
        },
        "outputId": "89b44553-f7a7-4f74-e338-4c2ac6955f27"
      },
      "source": [
        "# to plot image tensors\n",
        "idx = np.random.randint(0,len(test_dataset))\n",
        "img_tensor, label = test_dataset[idx]\n",
        "plt.imshow(img_tensor[0], cmap = 'gray')\n",
        "plt.title(f\"True label {label}, Prediction: {predict_img(img_tensor, model)}\")"
      ],
      "execution_count": 48,
      "outputs": [
        {
          "output_type": "execute_result",
          "data": {
            "text/plain": [
              "Text(0.5, 1.0, 'True label 8, Prediction: 8')"
            ]
          },
          "metadata": {
            "tags": []
          },
          "execution_count": 48
        },
        {
          "output_type": "display_data",
          "data": {
            "image/png": "[encoded data removed]",
            "text/plain": [
              "<Figure size 432x288 with 1 Axes>"
            ]
          },
          "metadata": {
            "tags": [],
            "needs_background": "light"
          }
        }
      ]
    },
    {
      "cell_type": "code",
      "metadata": {
        "id": "Y9_iHNSlqqcq",
        "colab_type": "code",
        "colab": {
          "base_uri": "https://localhost:8080/",
          "height": 52
        },
        "outputId": "7b84d2db-bedd-49fc-e72e-09be112ee8c6"
      },
      "source": [
        "test_dl = DataLoader(test_dataset, batch_size=100)\n",
        "test_loss, total, test_acc = evaluate(model, loss_fn, test_dl, metric=accuracy)\n",
        "print(f\"Loss: {test_loss}\\nAccuracy: {test_acc}\")"
      ],
      "execution_count": 51,
      "outputs": [
        {
          "output_type": "stream",
          "text": [
            "Loss: 0.4712366750091314\n",
            "Accuracy: 0.8853\n"
          ],
          "name": "stdout"
        }
      ]
    },
    {
      "cell_type": "markdown",
      "metadata": {
        "id": "Gc70SnSpmzD4",
        "colab_type": "text"
      },
      "source": [
        ""
      ]
    },
    {
      "cell_type": "code",
      "metadata": {
        "id": "4X_TwM3Hmboy",
        "colab_type": "code",
        "colab": {}
      },
      "source": [
        "# saving the model\n",
        "torch.save(model.state_dict(), \"mnist-lr-88acc.pth\")"
      ],
      "execution_count": 0,
      "outputs": []
    },
    {
      "cell_type": "code",
      "metadata": {
        "id": "VqywR3SaraF0",
        "colab_type": "code",
        "colab": {
          "base_uri": "https://localhost:8080/",
          "height": 212
        },
        "outputId": "4b10e246-1780-43c8-99c5-ed96a523be3e"
      },
      "source": [
        "model.state_dict()"
      ],
      "execution_count": 53,
      "outputs": [
        {
          "output_type": "execute_result",
          "data": {
            "text/plain": [
              "OrderedDict([('linear.weight',\n",
              "              tensor([[-0.0356,  0.0030, -0.0204,  ...,  0.0057, -0.0338,  0.0333],\n",
              "                      [ 0.0243,  0.0230, -0.0105,  ..., -0.0248,  0.0297, -0.0206],\n",
              "                      [ 0.0324,  0.0347,  0.0128,  ...,  0.0230,  0.0011,  0.0242],\n",
              "                      ...,\n",
              "                      [ 0.0199, -0.0266,  0.0087,  ..., -0.0165, -0.0203,  0.0255],\n",
              "                      [ 0.0197,  0.0039, -0.0144,  ...,  0.0066, -0.0050,  0.0272],\n",
              "                      [ 0.0268, -0.0346, -0.0101,  ...,  0.0276, -0.0178,  0.0042]])),\n",
              "             ('linear.bias',\n",
              "              tensor([-0.0462,  0.1757, -0.0330, -0.0350,  0.0181,  0.0788, -0.0017,  0.0588,\n",
              "                      -0.1852, -0.0116]))])"
            ]
          },
          "metadata": {
            "tags": []
          },
          "execution_count": 53
        }
      ]
    },
    {
      "cell_type": "code",
      "metadata": {
        "id": "QvXUfcW0rb5B",
        "colab_type": "code",
        "colab": {
          "base_uri": "https://localhost:8080/",
          "height": 35
        },
        "outputId": "13f26f4b-ba07-43e8-f146-e09b520224cb"
      },
      "source": [
        "# extra\n",
        "# to load state dict\n",
        "model2 = MnistModel()\n",
        "model2.load_state_dict(torch.load(\"mnist-lr-88acc.pth\"))"
      ],
      "execution_count": 55,
      "outputs": [
        {
          "output_type": "execute_result",
          "data": {
            "text/plain": [
              "<All keys matched successfully>"
            ]
          },
          "metadata": {
            "tags": []
          },
          "execution_count": 55
        }
      ]
    },
    {
      "cell_type": "code",
      "metadata": {
        "id": "r3R4CVheriiC",
        "colab_type": "code",
        "colab": {
          "base_uri": "https://localhost:8080/",
          "height": 52
        },
        "outputId": "aef91669-e911-4270-f170-5d0d85f05cbe"
      },
      "source": [
        "# check\n",
        "test_loss, total, test_acc = evaluate(model2, loss_fn, test_dl, metric=accuracy)\n",
        "print(f\"Loss: {test_loss}\\nAccuracy: {test_acc}\")"
      ],
      "execution_count": 56,
      "outputs": [
        {
          "output_type": "stream",
          "text": [
            "Loss: 0.4712366750091314\n",
            "Accuracy: 0.8853\n"
          ],
          "name": "stdout"
        }
      ]
    },
    {
      "cell_type": "code",
      "metadata": {
        "id": "XPNnebtzrxlN",
        "colab_type": "code",
        "colab": {}
      },
      "source": [
        ""
      ],
      "execution_count": 0,
      "outputs": []
    }
  ]
}