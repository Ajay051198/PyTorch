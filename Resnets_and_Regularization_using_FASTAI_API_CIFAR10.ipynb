{
  "nbformat": 4,
  "nbformat_minor": 0,
  "metadata": {
    "colab": {
      "name": "Resnets and Regularization using FASTAI API - CIFAR10.ipynb",
      "provenance": [],
      "collapsed_sections": []
    },
    "kernelspec": {
      "name": "python3",
      "display_name": "Python 3"
    },
    "accelerator": "GPU"
  },
  "cells": [
    {
      "cell_type": "code",
      "metadata": {
        "id": "32VUcpnb0-Ka",
        "colab_type": "code",
        "colab": {}
      },
      "source": [
        "import os\n",
        "import torch\n",
        "import torchvision\n",
        "import numpy as np\n",
        "import matplotlib.pyplot as plt"
      ],
      "execution_count": 0,
      "outputs": []
    },
    {
      "cell_type": "code",
      "metadata": {
        "id": "wYmfny2W1jEh",
        "colab_type": "code",
        "colab": {
          "base_uri": "https://localhost:8080/",
          "height": 35
        },
        "outputId": "089f98e1-77a1-49e5-c490-d3d166bd315c"
      },
      "source": [
        "from torchvision.datasets.utils import download_url\n",
        "import tarfile\n",
        "\n",
        "get = True\n",
        "if get:\n",
        "  # Dowload the dataset\n",
        "  dataset_url = \"http://files.fast.ai/data/cifar10.tgz\"\n",
        "  download_url(dataset_url, '.')\n",
        "\n",
        "  # Extract from archive\n",
        "  with tarfile.open('./cifar10.tgz', 'r:gz') as tar:\n",
        "      tar.extractall(path='./data')\n"
      ],
      "execution_count": 2,
      "outputs": [
        {
          "output_type": "stream",
          "text": [
            "Using downloaded and verified file: ./cifar10.tgz\n"
          ],
          "name": "stdout"
        }
      ]
    },
    {
      "cell_type": "code",
      "metadata": {
        "id": "pByLKXm65Vfo",
        "colab_type": "code",
        "colab": {
          "base_uri": "https://localhost:8080/",
          "height": 52
        },
        "outputId": "f4f3d372-d1d7-47fa-fcf2-c664ea4a9768"
      },
      "source": [
        "  data_dir = './data/cifar10'\n",
        "\n",
        "  print(os.listdir(data_dir))\n",
        "  classes = os.listdir(data_dir + \"/train\")\n",
        "  print(classes)"
      ],
      "execution_count": 3,
      "outputs": [
        {
          "output_type": "stream",
          "text": [
            "['models', 'labels.txt', 'test', 'train']\n",
            "['bird', 'deer', 'ship', 'airplane', 'horse', 'frog', 'cat', 'truck', 'automobile', 'dog']\n"
          ],
          "name": "stdout"
        }
      ]
    },
    {
      "cell_type": "markdown",
      "metadata": {
        "id": "ALWCxB3x2ItA",
        "colab_type": "text"
      },
      "source": [
        " ## We use the entire dataset for training\n"
      ]
    },
    {
      "cell_type": "code",
      "metadata": {
        "id": "qwm_60x_1pHD",
        "colab_type": "code",
        "colab": {}
      },
      "source": [
        "from torchvision.datasets import ImageFolder\n",
        "import torchvision.transforms as tt"
      ],
      "execution_count": 0,
      "outputs": []
    },
    {
      "cell_type": "markdown",
      "metadata": {
        "id": "_WztjTs02V9C",
        "colab_type": "text"
      },
      "source": [
        "### Data Augmentation / transformations"
      ]
    },
    {
      "cell_type": "code",
      "metadata": {
        "id": "46rgqlKU2Ute",
        "colab_type": "code",
        "colab": {}
      },
      "source": [
        "# Data transforms (normalization & data augmentation)\n",
        "stats = ((0.4914, 0.4822, 0.4465), (0.2023, 0.1994, 0.2010))\n",
        "train_tfms = tt.Compose([tt.RandomCrop(32, padding=4, padding_mode='reflect'), \n",
        "                         tt.RandomHorizontalFlip(), \n",
        "                         tt.ToTensor(), \n",
        "                         tt.Normalize(*stats)])\n",
        "valid_tfms = tt.Compose([tt.ToTensor(), tt.Normalize(*stats)])"
      ],
      "execution_count": 0,
      "outputs": []
    },
    {
      "cell_type": "code",
      "metadata": {
        "id": "Xzxe3s0b3jDu",
        "colab_type": "code",
        "colab": {}
      },
      "source": [
        "# PyTorch datasets\n",
        "train_ds = ImageFolder(data_dir+'/train', train_tfms)\n",
        "valid_ds = ImageFolder(data_dir+'/test', valid_tfms)"
      ],
      "execution_count": 0,
      "outputs": []
    },
    {
      "cell_type": "code",
      "metadata": {
        "id": "1gm6Nj7q3myu",
        "colab_type": "code",
        "colab": {}
      },
      "source": [
        "from torch.utils.data import DataLoader"
      ],
      "execution_count": 0,
      "outputs": []
    },
    {
      "cell_type": "code",
      "metadata": {
        "id": "ZvHOTY7k3oT0",
        "colab_type": "code",
        "colab": {}
      },
      "source": [
        "batch_size = 256"
      ],
      "execution_count": 0,
      "outputs": []
    },
    {
      "cell_type": "code",
      "metadata": {
        "id": "oWEW1kiH3qAQ",
        "colab_type": "code",
        "colab": {}
      },
      "source": [
        "train_dl = DataLoader(train_ds, batch_size, shuffle=True, \n",
        "                      num_workers=8, pin_memory=True)\n",
        "valid_dl = DataLoader(valid_ds, batch_size, shuffle=False, \n",
        "                      num_workers=8, pin_memory=True)"
      ],
      "execution_count": 0,
      "outputs": []
    },
    {
      "cell_type": "markdown",
      "metadata": {
        "id": "-7pI9nOO357p",
        "colab_type": "text"
      },
      "source": [
        "## Cool lets look at some batches of data"
      ]
    },
    {
      "cell_type": "code",
      "metadata": {
        "id": "-8xwe7_o333K",
        "colab_type": "code",
        "colab": {}
      },
      "source": [
        "from torchvision.utils import make_grid\n",
        "import matplotlib.pyplot as plt"
      ],
      "execution_count": 0,
      "outputs": []
    },
    {
      "cell_type": "code",
      "metadata": {
        "id": "3Gr_agWo3-e7",
        "colab_type": "code",
        "colab": {}
      },
      "source": [
        "def show_batch(dl):\n",
        "  for images, labels in dl:\n",
        "      fig, ax = plt.subplots(figsize=(16, 16))\n",
        "      ax.set_xticks([]); ax.set_yticks([])\n",
        "      ax.imshow(make_grid(images[:10], 5).permute(1, 2, 0))\n",
        "      break"
      ],
      "execution_count": 0,
      "outputs": []
    },
    {
      "cell_type": "code",
      "metadata": {
        "id": "4WW1QuZV4BEj",
        "colab_type": "code",
        "colab": {
          "base_uri": "https://localhost:8080/",
          "height": 416
        },
        "outputId": "895bc301-f500-44c9-c46a-e0e1b7ce908f"
      },
      "source": [
        "show_batch(train_dl)"
      ],
      "execution_count": 12,
      "outputs": [
        {
          "output_type": "stream",
          "text": [
            "Clipping input data to the valid range for imshow with RGB data ([0..1] for floats or [0..255] for integers).\n"
          ],
          "name": "stderr"
        },
        {
          "output_type": "display_data",
          "data": {
            "image/png": "[encoded data removed]",
            "text/plain": [
              "<Figure size 1152x1152 with 1 Axes>"
            ]
          },
          "metadata": {
            "tags": []
          }
        }
      ]
    },
    {
      "cell_type": "markdown",
      "metadata": {
        "id": "7yy_iZgk5wOE",
        "colab_type": "text"
      },
      "source": [
        "## Building the model"
      ]
    },
    {
      "cell_type": "code",
      "metadata": {
        "id": "nccON1aC4CG7",
        "colab_type": "code",
        "colab": {}
      },
      "source": [
        "import torch.nn as nn\n",
        "import torch.nn.functional as F"
      ],
      "execution_count": 0,
      "outputs": []
    },
    {
      "cell_type": "code",
      "metadata": {
        "id": "qGCBQBeF52oq",
        "colab_type": "code",
        "colab": {}
      },
      "source": [
        "class SimpleResidualBlock(nn.Module):\n",
        "  def __init__(self):\n",
        "    super().__init__()\n",
        "    self.conv1 = nn.Conv2d(3, 3, 3, 1, 1)\n",
        "    self.relu1 = nn.ReLU()\n",
        "    self.conv2 = nn.Conv2d(3, 3, 3, 1, 1)\n",
        "    self.relu2 = nn.ReLU()\n",
        "  \n",
        "  def forward(self, xb):\n",
        "    out = self.conv1(xb)\n",
        "    out = self.relu1(out)\n",
        "    out = self.conv2(out)\n",
        "    out = self.relu2(out + xb)\n",
        "    return out"
      ],
      "execution_count": 0,
      "outputs": []
    },
    {
      "cell_type": "code",
      "metadata": {
        "id": "goGZCSk36o46",
        "colab_type": "code",
        "colab": {}
      },
      "source": [
        "resnet_blk = SimpleResidualBlock()"
      ],
      "execution_count": 0,
      "outputs": []
    },
    {
      "cell_type": "code",
      "metadata": {
        "id": "3SWaaRv16t87",
        "colab_type": "code",
        "colab": {
          "base_uri": "https://localhost:8080/",
          "height": 35
        },
        "outputId": "3dcc9a54-352a-46e6-aca7-54c7d342af68"
      },
      "source": [
        "for images, labels in train_dl:\n",
        "  out = resnet_blk(images)\n",
        "  print(out.shape)\n",
        "  break\n"
      ],
      "execution_count": 16,
      "outputs": [
        {
          "output_type": "stream",
          "text": [
            "torch.Size([256, 3, 32, 32])\n"
          ],
          "name": "stdout"
        }
      ]
    },
    {
      "cell_type": "markdown",
      "metadata": {
        "id": "__sPw8ygEcrQ",
        "colab_type": "text"
      },
      "source": [
        "### Building the complete Resnet Model (implementation borrowed from FASTAI)\n",
        "---\n",
        "<img src=\"https://miro.medium.com/max/2500/1*gOyiFYGHMAEDlyoAIhkWkA.png\" width=100%>\n"
      ]
    },
    {
      "cell_type": "code",
      "metadata": {
        "id": "KwgqOiQwEbqA",
        "colab_type": "code",
        "colab": {}
      },
      "source": [
        "def conv_2d(ni, nf, stride=1, ks=3):\n",
        "    return nn.Conv2d(in_channels=ni, out_channels=nf, \n",
        "                     kernel_size=ks, stride=stride, \n",
        "                     padding=ks//2, bias=False)\n",
        "\n",
        "def bn_relu_conv(ni, nf):\n",
        "    return nn.Sequential(nn.BatchNorm2d(ni), \n",
        "                         nn.ReLU(inplace=True), \n",
        "                         conv_2d(ni, nf))\n",
        "\n",
        "class ResidualBlock(nn.Module):\n",
        "    def __init__(self, ni, nf, stride=1):\n",
        "        super().__init__()\n",
        "        self.bn = nn.BatchNorm2d(ni)\n",
        "        self.conv1 = conv_2d(ni, nf, stride)\n",
        "        self.conv2 = bn_relu_conv(nf, nf)\n",
        "        self.shortcut = lambda x: x\n",
        "        if ni != nf:\n",
        "            self.shortcut = conv_2d(ni, nf, stride, 1)\n",
        "    \n",
        "    def forward(self, x):\n",
        "        x = F.relu(self.bn(x), inplace=True)\n",
        "        r = self.shortcut(x)\n",
        "        x = self.conv1(x)\n",
        "        x = self.conv2(x) * 0.2\n",
        "        return x.add_(r)"
      ],
      "execution_count": 0,
      "outputs": []
    },
    {
      "cell_type": "code",
      "metadata": {
        "id": "joGt_yoM7IPr",
        "colab_type": "code",
        "colab": {}
      },
      "source": [
        "def make_group(N, ni, nf, stride):\n",
        "    start = ResidualBlock(ni, nf, stride)\n",
        "    rest = [ResidualBlock(nf, nf) for j in range(1, N)]\n",
        "    return [start] + rest\n",
        "\n",
        "class Flatten(nn.Module):\n",
        "    def __init__(self): super().__init__()\n",
        "    def forward(self, x): return x.view(x.size(0), -1)\n",
        "\n",
        "class WideResNet(nn.Module):\n",
        "    def __init__(self, n_groups, N, n_classes, k=1, n_start=16):\n",
        "        super().__init__()      \n",
        "        # Increase channels to n_start using conv layer\n",
        "        layers = [conv_2d(3, n_start)]\n",
        "        n_channels = [n_start]\n",
        "        \n",
        "        # Add groups of BasicBlock(increase channels & downsample)\n",
        "        for i in range(n_groups):\n",
        "            n_channels.append(n_start*(2**i)*k)\n",
        "            stride = 2 if i>0 else 1\n",
        "            layers += make_group(N, n_channels[i], \n",
        "                                 n_channels[i+1], stride)\n",
        "        \n",
        "        # Pool, flatten & add linear layer for classification\n",
        "        layers += [nn.BatchNorm2d(n_channels[3]), \n",
        "                   nn.ReLU(inplace=True), \n",
        "                   nn.AdaptiveAvgPool2d(1), \n",
        "                   Flatten(), \n",
        "                   nn.Linear(n_channels[3], n_classes)]\n",
        "        \n",
        "        self.features = nn.Sequential(*layers)\n",
        "        \n",
        "    def forward(self, x): return self.features(x)\n",
        "    \n",
        "def wrn_22(): \n",
        "    return WideResNet(n_groups=3, N=3, n_classes=10, k=6)"
      ],
      "execution_count": 0,
      "outputs": []
    },
    {
      "cell_type": "code",
      "metadata": {
        "id": "0U37h9SFJ4r9",
        "colab_type": "code",
        "colab": {
          "base_uri": "https://localhost:8080/",
          "height": 1000
        },
        "outputId": "f209cca4-a7f8-45b2-d5c2-96152064547c"
      },
      "source": [
        "model = wrn_22()\n",
        "model"
      ],
      "execution_count": 19,
      "outputs": [
        {
          "output_type": "execute_result",
          "data": {
            "text/plain": [
              "WideResNet(\n",
              "  (features): Sequential(\n",
              "    (0): Conv2d(3, 16, kernel_size=(3, 3), stride=(1, 1), padding=(1, 1), bias=False)\n",
              "    (1): ResidualBlock(\n",
              "      (bn): BatchNorm2d(16, eps=1e-05, momentum=0.1, affine=True, track_running_stats=True)\n",
              "      (conv1): Conv2d(16, 96, kernel_size=(3, 3), stride=(1, 1), padding=(1, 1), bias=False)\n",
              "      (conv2): Sequential(\n",
              "        (0): BatchNorm2d(96, eps=1e-05, momentum=0.1, affine=True, track_running_stats=True)\n",
              "        (1): ReLU(inplace=True)\n",
              "        (2): Conv2d(96, 96, kernel_size=(3, 3), stride=(1, 1), padding=(1, 1), bias=False)\n",
              "      )\n",
              "      (shortcut): Conv2d(16, 96, kernel_size=(1, 1), stride=(1, 1), bias=False)\n",
              "    )\n",
              "    (2): ResidualBlock(\n",
              "      (bn): BatchNorm2d(96, eps=1e-05, momentum=0.1, affine=True, track_running_stats=True)\n",
              "      (conv1): Conv2d(96, 96, kernel_size=(3, 3), stride=(1, 1), padding=(1, 1), bias=False)\n",
              "      (conv2): Sequential(\n",
              "        (0): BatchNorm2d(96, eps=1e-05, momentum=0.1, affine=True, track_running_stats=True)\n",
              "        (1): ReLU(inplace=True)\n",
              "        (2): Conv2d(96, 96, kernel_size=(3, 3), stride=(1, 1), padding=(1, 1), bias=False)\n",
              "      )\n",
              "    )\n",
              "    (3): ResidualBlock(\n",
              "      (bn): BatchNorm2d(96, eps=1e-05, momentum=0.1, affine=True, track_running_stats=True)\n",
              "      (conv1): Conv2d(96, 96, kernel_size=(3, 3), stride=(1, 1), padding=(1, 1), bias=False)\n",
              "      (conv2): Sequential(\n",
              "        (0): BatchNorm2d(96, eps=1e-05, momentum=0.1, affine=True, track_running_stats=True)\n",
              "        (1): ReLU(inplace=True)\n",
              "        (2): Conv2d(96, 96, kernel_size=(3, 3), stride=(1, 1), padding=(1, 1), bias=False)\n",
              "      )\n",
              "    )\n",
              "    (4): ResidualBlock(\n",
              "      (bn): BatchNorm2d(96, eps=1e-05, momentum=0.1, affine=True, track_running_stats=True)\n",
              "      (conv1): Conv2d(96, 192, kernel_size=(3, 3), stride=(2, 2), padding=(1, 1), bias=False)\n",
              "      (conv2): Sequential(\n",
              "        (0): BatchNorm2d(192, eps=1e-05, momentum=0.1, affine=True, track_running_stats=True)\n",
              "        (1): ReLU(inplace=True)\n",
              "        (2): Conv2d(192, 192, kernel_size=(3, 3), stride=(1, 1), padding=(1, 1), bias=False)\n",
              "      )\n",
              "      (shortcut): Conv2d(96, 192, kernel_size=(1, 1), stride=(2, 2), bias=False)\n",
              "    )\n",
              "    (5): ResidualBlock(\n",
              "      (bn): BatchNorm2d(192, eps=1e-05, momentum=0.1, affine=True, track_running_stats=True)\n",
              "      (conv1): Conv2d(192, 192, kernel_size=(3, 3), stride=(1, 1), padding=(1, 1), bias=False)\n",
              "      (conv2): Sequential(\n",
              "        (0): BatchNorm2d(192, eps=1e-05, momentum=0.1, affine=True, track_running_stats=True)\n",
              "        (1): ReLU(inplace=True)\n",
              "        (2): Conv2d(192, 192, kernel_size=(3, 3), stride=(1, 1), padding=(1, 1), bias=False)\n",
              "      )\n",
              "    )\n",
              "    (6): ResidualBlock(\n",
              "      (bn): BatchNorm2d(192, eps=1e-05, momentum=0.1, affine=True, track_running_stats=True)\n",
              "      (conv1): Conv2d(192, 192, kernel_size=(3, 3), stride=(1, 1), padding=(1, 1), bias=False)\n",
              "      (conv2): Sequential(\n",
              "        (0): BatchNorm2d(192, eps=1e-05, momentum=0.1, affine=True, track_running_stats=True)\n",
              "        (1): ReLU(inplace=True)\n",
              "        (2): Conv2d(192, 192, kernel_size=(3, 3), stride=(1, 1), padding=(1, 1), bias=False)\n",
              "      )\n",
              "    )\n",
              "    (7): ResidualBlock(\n",
              "      (bn): BatchNorm2d(192, eps=1e-05, momentum=0.1, affine=True, track_running_stats=True)\n",
              "      (conv1): Conv2d(192, 384, kernel_size=(3, 3), stride=(2, 2), padding=(1, 1), bias=False)\n",
              "      (conv2): Sequential(\n",
              "        (0): BatchNorm2d(384, eps=1e-05, momentum=0.1, affine=True, track_running_stats=True)\n",
              "        (1): ReLU(inplace=True)\n",
              "        (2): Conv2d(384, 384, kernel_size=(3, 3), stride=(1, 1), padding=(1, 1), bias=False)\n",
              "      )\n",
              "      (shortcut): Conv2d(192, 384, kernel_size=(1, 1), stride=(2, 2), bias=False)\n",
              "    )\n",
              "    (8): ResidualBlock(\n",
              "      (bn): BatchNorm2d(384, eps=1e-05, momentum=0.1, affine=True, track_running_stats=True)\n",
              "      (conv1): Conv2d(384, 384, kernel_size=(3, 3), stride=(1, 1), padding=(1, 1), bias=False)\n",
              "      (conv2): Sequential(\n",
              "        (0): BatchNorm2d(384, eps=1e-05, momentum=0.1, affine=True, track_running_stats=True)\n",
              "        (1): ReLU(inplace=True)\n",
              "        (2): Conv2d(384, 384, kernel_size=(3, 3), stride=(1, 1), padding=(1, 1), bias=False)\n",
              "      )\n",
              "    )\n",
              "    (9): ResidualBlock(\n",
              "      (bn): BatchNorm2d(384, eps=1e-05, momentum=0.1, affine=True, track_running_stats=True)\n",
              "      (conv1): Conv2d(384, 384, kernel_size=(3, 3), stride=(1, 1), padding=(1, 1), bias=False)\n",
              "      (conv2): Sequential(\n",
              "        (0): BatchNorm2d(384, eps=1e-05, momentum=0.1, affine=True, track_running_stats=True)\n",
              "        (1): ReLU(inplace=True)\n",
              "        (2): Conv2d(384, 384, kernel_size=(3, 3), stride=(1, 1), padding=(1, 1), bias=False)\n",
              "      )\n",
              "    )\n",
              "    (10): BatchNorm2d(384, eps=1e-05, momentum=0.1, affine=True, track_running_stats=True)\n",
              "    (11): ReLU(inplace=True)\n",
              "    (12): AdaptiveAvgPool2d(output_size=1)\n",
              "    (13): Flatten()\n",
              "    (14): Linear(in_features=384, out_features=10, bias=True)\n",
              "  )\n",
              ")"
            ]
          },
          "metadata": {
            "tags": []
          },
          "execution_count": 19
        }
      ]
    },
    {
      "cell_type": "code",
      "metadata": {
        "id": "B7wDPyosMmkP",
        "colab_type": "code",
        "colab": {
          "base_uri": "https://localhost:8080/",
          "height": 52
        },
        "outputId": "0bf886e0-c185-4a62-aa8d-56a15725910f"
      },
      "source": [
        "for images, labels in train_dl:\n",
        "    print('images.shape:', images.shape)\n",
        "    out = model(images)\n",
        "    print('out.shape:', out.shape)\n",
        "    break"
      ],
      "execution_count": 20,
      "outputs": [
        {
          "output_type": "stream",
          "text": [
            "images.shape: torch.Size([256, 3, 32, 32])\n",
            "out.shape: torch.Size([256, 10])\n"
          ],
          "name": "stdout"
        }
      ]
    },
    {
      "cell_type": "markdown",
      "metadata": {
        "id": "sDGh6peINuyj",
        "colab_type": "text"
      },
      "source": [
        "## Training the model with the help of FastAI API\n",
        "---"
      ]
    },
    {
      "cell_type": "code",
      "metadata": {
        "id": "8RdZWITJNL7h",
        "colab_type": "code",
        "colab": {}
      },
      "source": [
        "from fastai.basic_data import DataBunch\n",
        "from fastai.train import Learner\n",
        "from fastai.metrics import accuracy"
      ],
      "execution_count": 0,
      "outputs": []
    },
    {
      "cell_type": "code",
      "metadata": {
        "id": "YYnfpCSqN1Q7",
        "colab_type": "code",
        "colab": {}
      },
      "source": [
        "data = DataBunch.create(train_ds, valid_ds, bs=batch_size, path='./data/cifar10')\n",
        "learner = Learner(data, model, loss_func=F.cross_entropy, metrics=[accuracy])\n",
        "learner.clip = 0.1"
      ],
      "execution_count": 0,
      "outputs": []
    },
    {
      "cell_type": "markdown",
      "metadata": {
        "id": "DtK2vd-DPPRn",
        "colab_type": "text"
      },
      "source": [
        "### Using the buiit in functionality of FastAI to find best Learning rate for our problem\n",
        "----"
      ]
    },
    {
      "cell_type": "code",
      "metadata": {
        "id": "PsP7JSDFN1_1",
        "colab_type": "code",
        "colab": {
          "base_uri": "https://localhost:8080/",
          "height": 111
        },
        "outputId": "39664a36-5082-4b09-fe0f-a2992eecce2a"
      },
      "source": [
        "learner.lr_find()"
      ],
      "execution_count": 23,
      "outputs": [
        {
          "output_type": "display_data",
          "data": {
            "text/html": [
              "\n",
              "    <div>\n",
              "        <style>\n",
              "            /* Turns off some styling */\n",
              "            progress {\n",
              "                /* gets rid of default border in Firefox and Opera. */\n",
              "                border: none;\n",
              "                /* Needs to be in here for Safari polyfill so background images work as expected. */\n",
              "                background-size: auto;\n",
              "            }\n",
              "            .progress-bar-interrupted, .progress-bar-interrupted::-webkit-progress-bar {\n",
              "                background: #F44336;\n",
              "            }\n",
              "        </style>\n",
              "      <progress value='0' class='' max='1' style='width:300px; height:20px; vertical-align: middle;'></progress>\n",
              "      0.00% [0/1 00:00<00:00]\n",
              "    </div>\n",
              "    \n",
              "<table border=\"1\" class=\"dataframe\">\n",
              "  <thead>\n",
              "    <tr style=\"text-align: left;\">\n",
              "      <th>epoch</th>\n",
              "      <th>train_loss</th>\n",
              "      <th>valid_loss</th>\n",
              "      <th>accuracy</th>\n",
              "      <th>time</th>\n",
              "    </tr>\n",
              "  </thead>\n",
              "  <tbody>\n",
              "  </tbody>\n",
              "</table><p>\n",
              "\n",
              "    <div>\n",
              "        <style>\n",
              "            /* Turns off some styling */\n",
              "            progress {\n",
              "                /* gets rid of default border in Firefox and Opera. */\n",
              "                border: none;\n",
              "                /* Needs to be in here for Safari polyfill so background images work as expected. */\n",
              "                background-size: auto;\n",
              "            }\n",
              "            .progress-bar-interrupted, .progress-bar-interrupted::-webkit-progress-bar {\n",
              "                background: #F44336;\n",
              "            }\n",
              "        </style>\n",
              "      <progress value='99' class='' max='195' style='width:300px; height:20px; vertical-align: middle;'></progress>\n",
              "      50.77% [99/195 00:27<00:26 6.3925]\n",
              "    </div>\n",
              "    "
            ],
            "text/plain": [
              "<IPython.core.display.HTML object>"
            ]
          },
          "metadata": {
            "tags": []
          }
        },
        {
          "output_type": "stream",
          "text": [
            "LR Finder is complete, type {learner_name}.recorder.plot() to see the graph.\n"
          ],
          "name": "stdout"
        }
      ]
    },
    {
      "cell_type": "code",
      "metadata": {
        "id": "kXpQiD-8OfEL",
        "colab_type": "code",
        "colab": {
          "base_uri": "https://localhost:8080/",
          "height": 279
        },
        "outputId": "d4bf685e-d32d-4aad-d4f4-5d0c3c1cf38f"
      },
      "source": [
        "learner.recorder.plot()"
      ],
      "execution_count": 24,
      "outputs": [
        {
          "output_type": "display_data",
          "data": {
            "image/png": "[encoded data removed]",
            "text/plain": [
              "<Figure size 432x288 with 1 Axes>"
            ]
          },
          "metadata": {
            "tags": [],
            "needs_background": "light"
          }
        }
      ]
    },
    {
      "cell_type": "markdown",
      "metadata": {
        "id": "pbfEOWvFPGkL",
        "colab_type": "text"
      },
      "source": [
        "## One cycle fitting is a concept introduced by FASTAI \n",
        "--- \n",
        "It means to do a cycle with two steps of equal lengths, one going from a lower learning rate to a higher one than go back to the minimum. The maximum should be the value picked with the Learning Rate Finder, and the lower one can be ten times lower. Then, the length of this cycle should be slightly less than the total number of epochs, and, in the last part of training, we should allow the learning rate to decrease more than the minimum, by several orders of magnitude."
      ]
    },
    {
      "cell_type": "code",
      "metadata": {
        "id": "7mwiLJPoPEmC",
        "colab_type": "code",
        "colab": {
          "base_uri": "https://localhost:8080/",
          "height": 927
        },
        "outputId": "23a0e2ef-e98a-483c-950f-3b7495818b4a"
      },
      "source": [
        "learner.fit_one_cycle(30, 5e-3, wd=1e-4)"
      ],
      "execution_count": 25,
      "outputs": [
        {
          "output_type": "display_data",
          "data": {
            "text/html": [
              "<table border=\"1\" class=\"dataframe\">\n",
              "  <thead>\n",
              "    <tr style=\"text-align: left;\">\n",
              "      <th>epoch</th>\n",
              "      <th>train_loss</th>\n",
              "      <th>valid_loss</th>\n",
              "      <th>accuracy</th>\n",
              "      <th>time</th>\n",
              "    </tr>\n",
              "  </thead>\n",
              "  <tbody>\n",
              "    <tr>\n",
              "      <td>0</td>\n",
              "      <td>1.320043</td>\n",
              "      <td>1.250874</td>\n",
              "      <td>0.553400</td>\n",
              "      <td>00:58</td>\n",
              "    </tr>\n",
              "    <tr>\n",
              "      <td>1</td>\n",
              "      <td>1.006937</td>\n",
              "      <td>1.136633</td>\n",
              "      <td>0.604300</td>\n",
              "      <td>00:58</td>\n",
              "    </tr>\n",
              "    <tr>\n",
              "      <td>2</td>\n",
              "      <td>0.812691</td>\n",
              "      <td>0.989368</td>\n",
              "      <td>0.655400</td>\n",
              "      <td>00:58</td>\n",
              "    </tr>\n",
              "    <tr>\n",
              "      <td>3</td>\n",
              "      <td>0.690200</td>\n",
              "      <td>0.912943</td>\n",
              "      <td>0.692700</td>\n",
              "      <td>00:58</td>\n",
              "    </tr>\n",
              "    <tr>\n",
              "      <td>4</td>\n",
              "      <td>0.607664</td>\n",
              "      <td>0.699865</td>\n",
              "      <td>0.775300</td>\n",
              "      <td>00:58</td>\n",
              "    </tr>\n",
              "    <tr>\n",
              "      <td>5</td>\n",
              "      <td>0.546274</td>\n",
              "      <td>0.706920</td>\n",
              "      <td>0.768500</td>\n",
              "      <td>00:58</td>\n",
              "    </tr>\n",
              "    <tr>\n",
              "      <td>6</td>\n",
              "      <td>0.500198</td>\n",
              "      <td>0.693244</td>\n",
              "      <td>0.777800</td>\n",
              "      <td>00:58</td>\n",
              "    </tr>\n",
              "    <tr>\n",
              "      <td>7</td>\n",
              "      <td>0.452405</td>\n",
              "      <td>0.568392</td>\n",
              "      <td>0.814800</td>\n",
              "      <td>00:58</td>\n",
              "    </tr>\n",
              "    <tr>\n",
              "      <td>8</td>\n",
              "      <td>0.400283</td>\n",
              "      <td>0.464137</td>\n",
              "      <td>0.847200</td>\n",
              "      <td>00:58</td>\n",
              "    </tr>\n",
              "    <tr>\n",
              "      <td>9</td>\n",
              "      <td>0.353862</td>\n",
              "      <td>0.592015</td>\n",
              "      <td>0.820800</td>\n",
              "      <td>00:58</td>\n",
              "    </tr>\n",
              "    <tr>\n",
              "      <td>10</td>\n",
              "      <td>0.312540</td>\n",
              "      <td>0.444670</td>\n",
              "      <td>0.859900</td>\n",
              "      <td>00:58</td>\n",
              "    </tr>\n",
              "    <tr>\n",
              "      <td>11</td>\n",
              "      <td>0.270643</td>\n",
              "      <td>0.380134</td>\n",
              "      <td>0.878000</td>\n",
              "      <td>00:58</td>\n",
              "    </tr>\n",
              "    <tr>\n",
              "      <td>12</td>\n",
              "      <td>0.245630</td>\n",
              "      <td>0.394223</td>\n",
              "      <td>0.876700</td>\n",
              "      <td>00:58</td>\n",
              "    </tr>\n",
              "    <tr>\n",
              "      <td>13</td>\n",
              "      <td>0.210250</td>\n",
              "      <td>0.384572</td>\n",
              "      <td>0.880900</td>\n",
              "      <td>00:58</td>\n",
              "    </tr>\n",
              "    <tr>\n",
              "      <td>14</td>\n",
              "      <td>0.184958</td>\n",
              "      <td>0.316891</td>\n",
              "      <td>0.898900</td>\n",
              "      <td>00:58</td>\n",
              "    </tr>\n",
              "    <tr>\n",
              "      <td>15</td>\n",
              "      <td>0.159901</td>\n",
              "      <td>0.359645</td>\n",
              "      <td>0.894600</td>\n",
              "      <td>00:58</td>\n",
              "    </tr>\n",
              "    <tr>\n",
              "      <td>16</td>\n",
              "      <td>0.139412</td>\n",
              "      <td>0.299203</td>\n",
              "      <td>0.909300</td>\n",
              "      <td>00:58</td>\n",
              "    </tr>\n",
              "    <tr>\n",
              "      <td>17</td>\n",
              "      <td>0.121811</td>\n",
              "      <td>0.281899</td>\n",
              "      <td>0.913900</td>\n",
              "      <td>00:58</td>\n",
              "    </tr>\n",
              "    <tr>\n",
              "      <td>18</td>\n",
              "      <td>0.101546</td>\n",
              "      <td>0.313456</td>\n",
              "      <td>0.909600</td>\n",
              "      <td>00:58</td>\n",
              "    </tr>\n",
              "    <tr>\n",
              "      <td>19</td>\n",
              "      <td>0.079699</td>\n",
              "      <td>0.286764</td>\n",
              "      <td>0.920700</td>\n",
              "      <td>00:58</td>\n",
              "    </tr>\n",
              "    <tr>\n",
              "      <td>20</td>\n",
              "      <td>0.067755</td>\n",
              "      <td>0.289291</td>\n",
              "      <td>0.923200</td>\n",
              "      <td>00:58</td>\n",
              "    </tr>\n",
              "    <tr>\n",
              "      <td>21</td>\n",
              "      <td>0.045029</td>\n",
              "      <td>0.299557</td>\n",
              "      <td>0.925800</td>\n",
              "      <td>00:58</td>\n",
              "    </tr>\n",
              "    <tr>\n",
              "      <td>22</td>\n",
              "      <td>0.039564</td>\n",
              "      <td>0.299714</td>\n",
              "      <td>0.929100</td>\n",
              "      <td>00:58</td>\n",
              "    </tr>\n",
              "    <tr>\n",
              "      <td>23</td>\n",
              "      <td>0.028989</td>\n",
              "      <td>0.292465</td>\n",
              "      <td>0.932600</td>\n",
              "      <td>00:58</td>\n",
              "    </tr>\n",
              "    <tr>\n",
              "      <td>24</td>\n",
              "      <td>0.022985</td>\n",
              "      <td>0.296786</td>\n",
              "      <td>0.934500</td>\n",
              "      <td>00:58</td>\n",
              "    </tr>\n",
              "    <tr>\n",
              "      <td>25</td>\n",
              "      <td>0.015122</td>\n",
              "      <td>0.301516</td>\n",
              "      <td>0.936800</td>\n",
              "      <td>00:58</td>\n",
              "    </tr>\n",
              "    <tr>\n",
              "      <td>26</td>\n",
              "      <td>0.010018</td>\n",
              "      <td>0.299174</td>\n",
              "      <td>0.937700</td>\n",
              "      <td>00:58</td>\n",
              "    </tr>\n",
              "    <tr>\n",
              "      <td>27</td>\n",
              "      <td>0.008847</td>\n",
              "      <td>0.301651</td>\n",
              "      <td>0.938800</td>\n",
              "      <td>00:58</td>\n",
              "    </tr>\n",
              "    <tr>\n",
              "      <td>28</td>\n",
              "      <td>0.007014</td>\n",
              "      <td>0.300816</td>\n",
              "      <td>0.939800</td>\n",
              "      <td>00:59</td>\n",
              "    </tr>\n",
              "    <tr>\n",
              "      <td>29</td>\n",
              "      <td>0.007926</td>\n",
              "      <td>0.302505</td>\n",
              "      <td>0.940000</td>\n",
              "      <td>00:59</td>\n",
              "    </tr>\n",
              "  </tbody>\n",
              "</table>"
            ],
            "text/plain": [
              "<IPython.core.display.HTML object>"
            ]
          },
          "metadata": {
            "tags": []
          }
        }
      ]
    },
    {
      "cell_type": "markdown",
      "metadata": {
        "id": "rdt2S2ALQP7r",
        "colab_type": "text"
      },
      "source": [
        "###  Lets look at how the learning rate varied"
      ]
    },
    {
      "cell_type": "code",
      "metadata": {
        "id": "w_Dj89dNPcsI",
        "colab_type": "code",
        "colab": {
          "base_uri": "https://localhost:8080/",
          "height": 279
        },
        "outputId": "20ca04fe-5d94-4590-cbac-3eab8736fda7"
      },
      "source": [
        "learner.recorder.plot_lr()"
      ],
      "execution_count": 26,
      "outputs": [
        {
          "output_type": "display_data",
          "data": {
            "image/png": "[encoded data removed]",
            "text/plain": [
              "<Figure size 432x288 with 1 Axes>"
            ]
          },
          "metadata": {
            "tags": [],
            "needs_background": "light"
          }
        }
      ]
    },
    {
      "cell_type": "markdown",
      "metadata": {
        "id": "TcTLMWAIQYI8",
        "colab_type": "text"
      },
      "source": [
        "### Lets look at the evaluation metrics of the model"
      ]
    },
    {
      "cell_type": "code",
      "metadata": {
        "id": "MLwKvewwP5Xt",
        "colab_type": "code",
        "colab": {
          "base_uri": "https://localhost:8080/",
          "height": 279
        },
        "outputId": "84c8d5d5-17d0-4829-91a6-891b72bc8e50"
      },
      "source": [
        "learner.recorder.plot_losses()"
      ],
      "execution_count": 27,
      "outputs": [
        {
          "output_type": "display_data",
          "data": {
            "image/png": "[encoded data removed]",
            "text/plain": [
              "<Figure size 432x288 with 1 Axes>"
            ]
          },
          "metadata": {
            "tags": [],
            "needs_background": "light"
          }
        }
      ]
    },
    {
      "cell_type": "code",
      "metadata": {
        "id": "C9emcI7vP6lb",
        "colab_type": "code",
        "colab": {
          "base_uri": "https://localhost:8080/",
          "height": 279
        },
        "outputId": "a01289b4-e0e9-4cad-d538-0ae9a28bf912"
      },
      "source": [
        "learner.recorder.plot_metrics()"
      ],
      "execution_count": 28,
      "outputs": [
        {
          "output_type": "display_data",
          "data": {
            "image/png": "[encoded data removed]",
            "text/plain": [
              "<Figure size 432x288 with 1 Axes>"
            ]
          },
          "metadata": {
            "tags": [],
            "needs_background": "light"
          }
        }
      ]
    },
    {
      "cell_type": "markdown",
      "metadata": {
        "id": "pS5zth6cQoxS",
        "colab_type": "text"
      },
      "source": [
        "## Lets save the model weights for future use\n",
        "---\n",
        "Coolio bai"
      ]
    },
    {
      "cell_type": "code",
      "metadata": {
        "id": "erEgF4vyP9Z_",
        "colab_type": "code",
        "colab": {}
      },
      "source": [
        "torch.save(model.state_dict(), 'cifar10-wrn22.pth')"
      ],
      "execution_count": 0,
      "outputs": []
    }
  ]
}